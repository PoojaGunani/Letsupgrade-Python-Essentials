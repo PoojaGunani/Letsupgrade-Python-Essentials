{
  "nbformat": 4,
  "nbformat_minor": 0,
  "metadata": {
    "colab": {
      "name": "Day6_Assignments.ipynb",
      "provenance": [],
      "authorship_tag": "ABX9TyMK9ujyaU7JjOYiEBQpYIPQ",
      "include_colab_link": true
    },
    "kernelspec": {
      "name": "python3",
      "display_name": "Python 3"
    }
  },
  "cells": [
    {
      "cell_type": "markdown",
      "metadata": {
        "id": "view-in-github",
        "colab_type": "text"
      },
      "source": [
        "<a href=\"https://colab.research.google.com/github/PoojaGunani/Letsupgrade-Python-Essentials/blob/master/Day6_Assignments.ipynb\" target=\"_parent\"><img src=\"https://colab.research.google.com/assets/colab-badge.svg\" alt=\"Open In Colab\"/></a>"
      ]
    },
    {
      "cell_type": "code",
      "metadata": {
        "id": "QrTn0D4Zjdf3",
        "colab_type": "code",
        "colab": {}
      },
      "source": [
        ""
      ],
      "execution_count": null,
      "outputs": []
    },
    {
      "cell_type": "markdown",
      "metadata": {
        "id": "YcJohmEpjoNi",
        "colab_type": "text"
      },
      "source": [
        "Assignment 1 : Create a bank account class with attributes ownername and balance and create two methods deposit and withdraw to add and remove money from bank and if the withdraw amount is more than balance return error message."
      ]
    },
    {
      "cell_type": "code",
      "metadata": {
        "id": "ZF0IWHe4jvbg",
        "colab_type": "code",
        "colab": {
          "base_uri": "https://localhost:8080/",
          "height": 35
        },
        "outputId": "c19ffb21-a0f6-4711-eb7c-134063b93815"
      },
      "source": [
        "class bankaccount:\n",
        "    def __init__(self,ownerName,balance):\n",
        "        self.ownerName=ownerName\n",
        "        self.balance=balance\n",
        "    def deposit(self,dep):\n",
        "        self.balance=self.balance+dep\n",
        "        return 'your account is deposited with '+str(dep)+' and the available balance is '+str(self.balance)\n",
        "    def withdraw(self,wdr):\n",
        "        if wdr>self.balance:\n",
        "            return 'your account doesnt have sufficient balance'\n",
        "        else:\n",
        "            self.balance=self.balance-wdr\n",
        "            return str(wdr)+' is withdrawn and the balance remaining is '+str(self.balance)\n",
        "\n",
        "\n",
        "\n",
        "myaccount=bankaccount('Pooja',45000)\n",
        "\n",
        "\n",
        "myaccount.deposit(80000)\n",
        "\n",
        "\n",
        "myaccount.withdraw(90000)\n"
      ],
      "execution_count": 7,
      "outputs": [
        {
          "output_type": "execute_result",
          "data": {
            "application/vnd.google.colaboratory.intrinsic+json": {
              "type": "string"
            },
            "text/plain": [
              "'90000 is withdrawn and the balance remaining is 35000'"
            ]
          },
          "metadata": {
            "tags": []
          },
          "execution_count": 7
        }
      ]
    },
    {
      "cell_type": "markdown",
      "metadata": {
        "id": "ZJln3PS6kts_",
        "colab_type": "text"
      },
      "source": [
        "Assignment 2 :  Create a class cone that has two attributes R-Radius and H-height and two methods Volume-pi**r**r**(h/3) and surface area-base:pi**r**r,side:pi**r**(r**r+h**h)***1/2\n",
        "\n"
      ]
    },
    {
      "cell_type": "code",
      "metadata": {
        "id": "pK2b1Si7k0ZI",
        "colab_type": "code",
        "colab": {
          "base_uri": "https://localhost:8080/",
          "height": 34
        },
        "outputId": "affe975e-11d5-453a-894b-ce5fa33dee84"
      },
      "source": [
        "import math\n",
        "class cone:\n",
        "    def __init__(self,r,h):\n",
        "        self.r=r\n",
        "        self.h=h\n",
        "    def volume(self):\n",
        "        return math.pi*self.r*self.r*(self.h/3)\n",
        "    def surface_area(self):\n",
        "        return math.pi*self.r*(self.r+math.sqrt(self.h**2+self.r**2))\n",
        "\n",
        "c=cone(3,4)\n",
        "\n",
        "c.volume()\n",
        "\n"
      ],
      "execution_count": 6,
      "outputs": [
        {
          "output_type": "execute_result",
          "data": {
            "text/plain": [
              "37.69911184307752"
            ]
          },
          "metadata": {
            "tags": []
          },
          "execution_count": 6
        }
      ]
    },
    {
      "cell_type": "code",
      "metadata": {
        "id": "kZhvL97WlOPz",
        "colab_type": "code",
        "colab": {
          "base_uri": "https://localhost:8080/",
          "height": 34
        },
        "outputId": "d4d554ac-87e0-48b9-f896-c2b4fa514e42"
      },
      "source": [
        "c.surface_area()"
      ],
      "execution_count": 8,
      "outputs": [
        {
          "output_type": "execute_result",
          "data": {
            "text/plain": [
              "75.39822368615503"
            ]
          },
          "metadata": {
            "tags": []
          },
          "execution_count": 8
        }
      ]
    }
  ]
}