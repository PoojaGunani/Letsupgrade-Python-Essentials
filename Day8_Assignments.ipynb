{
  "nbformat": 4,
  "nbformat_minor": 0,
  "metadata": {
    "colab": {
      "name": "Day8_Assignments.ipynb",
      "provenance": [],
      "collapsed_sections": [],
      "authorship_tag": "ABX9TyNbUkLnJtUx8LgqQUnzDpDs",
      "include_colab_link": true
    },
    "kernelspec": {
      "name": "python3",
      "display_name": "Python 3"
    }
  },
  "cells": [
    {
      "cell_type": "markdown",
      "metadata": {
        "id": "view-in-github",
        "colab_type": "text"
      },
      "source": [
        "<a href=\"https://colab.research.google.com/github/PoojaGunani/Letsupgrade-Python-Essentials/blob/master/Day8_Assignments.ipynb\" target=\"_parent\"><img src=\"https://colab.research.google.com/assets/colab-badge.svg\" alt=\"Open In Colab\"/></a>"
      ]
    },
    {
      "cell_type": "code",
      "metadata": {
        "id": "B_RqFOEs2OFa",
        "colab_type": "code",
        "colab": {}
      },
      "source": [
        "\n"
      ],
      "execution_count": null,
      "outputs": []
    },
    {
      "cell_type": "markdown",
      "metadata": {
        "id": "YPUf1IYa2XAu",
        "colab_type": "text"
      },
      "source": [
        "Assignment 1 : Write the decorator function to take input for any kind of function you want to build. Here the functions build using Decorators are fibonacci and addition.\n"
      ]
    },
    {
      "cell_type": "code",
      "metadata": {
        "id": "L51JPx072anx",
        "colab_type": "code",
        "colab": {
          "base_uri": "https://localhost:8080/",
          "height": 102
        },
        "outputId": "6948d5cf-a79e-4471-c0c3-78bbcc3bddae"
      },
      "source": [
        "def inputfunction(functionality_function):\n",
        "    def wrap_function():\n",
        "        a=int(input('Enter the first number-'))\n",
        "        b=int(input('Enter the second number-'))\n",
        "        functionality_function(a,b)\n",
        "    return wrap_function    \n",
        "\n",
        "@inputfunction\n",
        "def fibonacci(a,b):\n",
        "    count=0\n",
        "    nterms=int(input('Enter the range of fibonocci series-'))\n",
        "    if nterms<=0:\n",
        "        print('Enter the positive number')\n",
        "    elif nterms==1:\n",
        "        print('Fibonocci series is')\n",
        "        print(a)\n",
        "    else:\n",
        "        print('Fibonocci series is')\n",
        "        while count<=nterms:\n",
        "            print(a,end=' ')\n",
        "            f=a+b\n",
        "            a=b\n",
        "            b=f\n",
        "            count+=1\n",
        "          \n",
        "\n",
        "fibonacci()\n"
      ],
      "execution_count": 7,
      "outputs": [
        {
          "output_type": "stream",
          "text": [
            "Enter the first number-1\n",
            "Enter the second number-3\n",
            "Enter the range of fibonocci series-1\n",
            "Fibonocci series is\n",
            "1\n"
          ],
          "name": "stdout"
        }
      ]
    },
    {
      "cell_type": "code",
      "metadata": {
        "id": "EmPA8dak2jKx",
        "colab_type": "code",
        "colab": {}
      },
      "source": [
        "@inputfunction\n",
        "def addition(a,b):\n",
        "    print('addition is-',a+b)\n",
        "\n",
        "addition()\n"
      ],
      "execution_count": null,
      "outputs": []
    },
    {
      "cell_type": "code",
      "metadata": {
        "id": "xuYp0hIQ3Ygv",
        "colab_type": "code",
        "colab": {}
      },
      "source": [
        ""
      ],
      "execution_count": null,
      "outputs": []
    },
    {
      "cell_type": "markdown",
      "metadata": {
        "id": "et6mcsTK3Y6L",
        "colab_type": "text"
      },
      "source": [
        " Assignment 2 : Develop a python program to open a file in read only mode and handle exception using error handling.\n"
      ]
    },
    {
      "cell_type": "code",
      "metadata": {
        "id": "yea4-imq3sc1",
        "colab_type": "code",
        "colab": {
          "base_uri": "https://localhost:8080/",
          "height": 34
        },
        "outputId": "baee91ca-83dc-46a6-f038-efcd6e7e4804"
      },
      "source": [
        "fhand=open('Day6_Assignments.ipynb','w')\n",
        "fhand.write(input())\n",
        "fhand.close()\n",
        "\n"
      ],
      "execution_count": 9,
      "outputs": [
        {
          "output_type": "stream",
          "text": [
            "Hello\n"
          ],
          "name": "stdout"
        }
      ]
    },
    {
      "cell_type": "code",
      "metadata": {
        "id": "XrLcVrRy4Mqe",
        "colab_type": "code",
        "colab": {
          "base_uri": "https://localhost:8080/",
          "height": 34
        },
        "outputId": "a58833cf-2ad7-4967-cdbe-d4eae116b865"
      },
      "source": [
        "fread=open('Day6_Assignments.ipynb','r')\n",
        "readfile=fread.read()\n",
        "print(readfile)\n",
        "fread.close()\n"
      ],
      "execution_count": 10,
      "outputs": [
        {
          "output_type": "stream",
          "text": [
            "Hello\n"
          ],
          "name": "stdout"
        }
      ]
    },
    {
      "cell_type": "code",
      "metadata": {
        "id": "zAdhv6nv4Upc",
        "colab_type": "code",
        "colab": {
          "base_uri": "https://localhost:8080/",
          "height": 51
        },
        "outputId": "ba33e060-3788-4e07-c862-99a1e2001bfe"
      },
      "source": [
        "try:\n",
        "    writefile=fread.write(input())\n",
        "    print(writefile)\n",
        "except:\n",
        "    print('file cannot be written since it is open in read mode')\n"
      ],
      "execution_count": 11,
      "outputs": [
        {
          "output_type": "stream",
          "text": [
            "hii\n",
            "file cannot be written since it is open in read mode\n"
          ],
          "name": "stdout"
        }
      ]
    }
  ]
}